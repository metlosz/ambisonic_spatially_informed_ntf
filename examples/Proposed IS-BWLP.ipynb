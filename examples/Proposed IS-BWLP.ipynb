{
 "cells": [
  {
   "cell_type": "markdown",
   "id": "b3eb16d2-8b89-4776-bd32-7da127fb89e3",
   "metadata": {
    "collapsed": false
   },
   "source": [
    "# Imports"
   ]
  },
  {
   "cell_type": "code",
   "execution_count": null,
   "id": "initial_id",
   "metadata": {},
   "outputs": [],
   "source": [
    "from numpy import pi\n",
    "from numpy.random import default_rng\n",
    "from tqdm import trange\n",
    "\n",
    "from asintf.audio import binauralize, player\n",
    "from asintf.datasets import load_file\n",
    "from asintf.IS_BWLP import IS_BWLP\n",
    "from asintf.reconstruction import mimo_mwf\n",
    "from asintf.stft import analysis, estimate_covariance_matrices, magnitude_compression, synthesis"
   ]
  },
  {
   "cell_type": "markdown",
   "id": "b649db06-ec5e-4167-b7af-63e350ca7f0d",
   "metadata": {},
   "source": [
    "# Parameters"
   ]
  },
  {
   "cell_type": "code",
   "execution_count": null,
   "id": "cab0f89f-b8ee-4081-b3c5-8b3000856d9f",
   "metadata": {},
   "outputs": [],
   "source": [
    "file_path = 'MUSIC_II_example.pkl'  # MUSIC_I_example.pkl, MUSIC_II_example.pkl, SPEECH_example.pkl, DSD100_example.pkl\n",
    "window = 'hann'\n",
    "samples_per_frame = 2048\n",
    "overlapping_sampes = 1024\n",
    "components_per_source = 25\n",
    "number_of_directions = 162\n",
    "number_of_iterations = 100\n",
    "standard_deviation = pi ** (-1 / 2)\n",
    "random_generator = default_rng(0)"
   ]
  },
  {
   "cell_type": "markdown",
   "id": "0466e309-1070-4f1d-889a-b5c3c01a2c25",
   "metadata": {},
   "source": [
    "# Audio loading"
   ]
  },
  {
   "cell_type": "code",
   "execution_count": null,
   "id": "4b69e4de-f77c-4602-9b93-22e595ec6a78",
   "metadata": {},
   "outputs": [],
   "source": [
    "sampling_frequency, ambisonic_source_images, _, directions_of_arrival_cartesian = load_file(file_path)\n",
    "number_of_sources = ambisonic_source_images.shape[0]\n",
    "ambisonic_mixture = ambisonic_source_images.sum(axis=0)"
   ]
  },
  {
   "cell_type": "markdown",
   "id": "5e23a68f-d032-4093-9534-2273ce33fc98",
   "metadata": {},
   "source": [
    "# STFT & preprocessing"
   ]
  },
  {
   "cell_type": "code",
   "execution_count": null,
   "id": "21913841-590b-4cae-8b88-275ba8205485",
   "metadata": {},
   "outputs": [],
   "source": [
    "stft = analysis(ambisonic_mixture, sampling_frequency, window, samples_per_frame, overlapping_sampes)[2]\n"
   ]
  },
  {
   "cell_type": "markdown",
   "id": "f26186b4-2a61-4be3-8651-9958caf56dc3",
   "metadata": {},
   "source": [
    "# Estimation"
   ]
  },
  {
   "cell_type": "code",
   "execution_count": null,
   "id": "47432aba-835f-422b-a74b-934dc70bcf5e",
   "metadata": {},
   "outputs": [],
   "source": [
    "is_bwlp = IS_BWLP(stft,\n",
    "                  number_of_sources,\n",
    "                  components_per_source,\n",
    "                  number_of_directions,\n",
    "                  directions_of_arrival_cartesian,\n",
    "                  random_generator)\n",
    "for i in trange(number_of_iterations):\n",
    "    is_bwlp.iteration()"
   ]
  },
  {
   "cell_type": "markdown",
   "id": "7112f2e7-0d2f-4aee-8e0c-7d8d6aad3aa6",
   "metadata": {},
   "source": [
    "# Reconstruction"
   ]
  },
  {
   "cell_type": "code",
   "execution_count": null,
   "id": "ec02b05d-a685-4633-a236-021371f070f9",
   "metadata": {},
   "outputs": [],
   "source": [
    "reconstructed_stft = mimo_mwf(stft, is_bwlp.covariance_matrices)\n",
    "reconstructed_ambisonic_source_images = synthesis(reconstructed_stft, sampling_frequency, window, samples_per_frame, overlapping_sampes)[1]"
   ]
  },
  {
   "cell_type": "markdown",
   "id": "72614b64-2520-427a-8cb4-65df9e2b9738",
   "metadata": {},
   "source": [
    "# Playback"
   ]
  },
  {
   "cell_type": "code",
   "execution_count": null,
   "id": "a2e332e4-63dd-47c0-920f-caf8985bbc9f",
   "metadata": {},
   "outputs": [],
   "source": [
    "binaural_audio = binauralize(ambisonic_mixture, sampling_frequency)\n",
    "player(binaural_audio, sampling_frequency, 'Input mixture')\n",
    "\n",
    "for source_index in range(number_of_sources):\n",
    "    binaural_audio = binauralize(reconstructed_ambisonic_source_images[source_index], sampling_frequency)\n",
    "    player(binaural_audio, sampling_frequency, 'Estimated source ' + str(source_index))"
   ]
  }
 ],
 "metadata": {
  "kernelspec": {
   "display_name": "Python 3 (ipykernel)",
   "language": "python",
   "name": "python3"
  },
  "language_info": {
   "codemirror_mode": {
    "name": "ipython",
    "version": 3
   },
   "file_extension": ".py",
   "mimetype": "text/x-python",
   "name": "python",
   "nbconvert_exporter": "python",
   "pygments_lexer": "ipython3",
   "version": "3.8.18"
  }
 },
 "nbformat": 4,
 "nbformat_minor": 5
}
